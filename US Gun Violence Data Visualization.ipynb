{
 "cells": [
  {
   "cell_type": "code",
   "execution_count": 1,
   "metadata": {},
   "outputs": [],
   "source": [
    "# US States Data Visualization\n",
    "# Data source - https://www.kaggle.com/jameslko/gun-violence-data\n",
    "\n",
    "# Import all dependencies\n",
    "import numpy as np\n",
    "import pandas as pd\n",
    "import matplotlib.pyplot as plt\n",
    "# Library for plotting maps\n",
    "import folium"
   ]
  },
  {
   "cell_type": "code",
   "execution_count": 2,
   "metadata": {},
   "outputs": [
    {
     "data": {
      "text/html": [
       "<div>\n",
       "<style scoped>\n",
       "    .dataframe tbody tr th:only-of-type {\n",
       "        vertical-align: middle;\n",
       "    }\n",
       "\n",
       "    .dataframe tbody tr th {\n",
       "        vertical-align: top;\n",
       "    }\n",
       "\n",
       "    .dataframe thead th {\n",
       "        text-align: right;\n",
       "    }\n",
       "</style>\n",
       "<table border=\"1\" class=\"dataframe\">\n",
       "  <thead>\n",
       "    <tr style=\"text-align: right;\">\n",
       "      <th></th>\n",
       "      <th>incident_id</th>\n",
       "      <th>state</th>\n",
       "      <th>city_or_county</th>\n",
       "      <th>n_victims</th>\n",
       "      <th>latitude</th>\n",
       "      <th>longitude</th>\n",
       "    </tr>\n",
       "  </thead>\n",
       "  <tbody>\n",
       "    <tr>\n",
       "      <th>0</th>\n",
       "      <td>461105</td>\n",
       "      <td>Pennsylvania</td>\n",
       "      <td>Mckeesport</td>\n",
       "      <td>4</td>\n",
       "      <td>40.3467</td>\n",
       "      <td>-79.8559</td>\n",
       "    </tr>\n",
       "    <tr>\n",
       "      <th>1</th>\n",
       "      <td>460726</td>\n",
       "      <td>California</td>\n",
       "      <td>Hawthorne</td>\n",
       "      <td>4</td>\n",
       "      <td>33.9090</td>\n",
       "      <td>-118.3330</td>\n",
       "    </tr>\n",
       "    <tr>\n",
       "      <th>2</th>\n",
       "      <td>478855</td>\n",
       "      <td>Ohio</td>\n",
       "      <td>Lorain</td>\n",
       "      <td>4</td>\n",
       "      <td>41.4455</td>\n",
       "      <td>-82.1377</td>\n",
       "    </tr>\n",
       "    <tr>\n",
       "      <th>3</th>\n",
       "      <td>478925</td>\n",
       "      <td>Colorado</td>\n",
       "      <td>Aurora</td>\n",
       "      <td>4</td>\n",
       "      <td>39.6518</td>\n",
       "      <td>-104.8020</td>\n",
       "    </tr>\n",
       "    <tr>\n",
       "      <th>4</th>\n",
       "      <td>478959</td>\n",
       "      <td>North Carolina</td>\n",
       "      <td>Greensboro</td>\n",
       "      <td>4</td>\n",
       "      <td>36.1140</td>\n",
       "      <td>-79.9569</td>\n",
       "    </tr>\n",
       "  </tbody>\n",
       "</table>\n",
       "</div>"
      ],
      "text/plain": [
       "   incident_id           state city_or_county  n_victims  latitude  longitude\n",
       "0       461105    Pennsylvania     Mckeesport          4   40.3467   -79.8559\n",
       "1       460726      California      Hawthorne          4   33.9090  -118.3330\n",
       "2       478855            Ohio         Lorain          4   41.4455   -82.1377\n",
       "3       478925        Colorado         Aurora          4   39.6518  -104.8020\n",
       "4       478959  North Carolina     Greensboro          4   36.1140   -79.9569"
      ]
     },
     "execution_count": 2,
     "metadata": {},
     "output_type": "execute_result"
    }
   ],
   "source": [
    "# Since the imported Gun Violence dataset was quite huge for \n",
    "# the purpose of this program, I cleaned up most of the data\n",
    "# Specifically, I combined 'n_killed' and 'n_injured' into 'n_victims',\n",
    "# and retained fields that I felt might be used in the future\n",
    "states_data = pd.read_csv(\"./csv-data/gun-violence-cleaned.csv\")\n",
    "# Get the GeoJSON file to generate map\n",
    "states_geo = './geo-json-data/us-states.json'\n",
    "# Display states data sample\n",
    "states_data.head()"
   ]
  },
  {
   "cell_type": "code",
   "execution_count": 8,
   "metadata": {},
   "outputs": [],
   "source": [
    "# # Initialize the map:\n",
    "# m = folium.Map()\n",
    "# parameter = 'Area (sq. mi.)'\n",
    "# # Add the color for the chloropleth:\n",
    "# m.choropleth(\n",
    "#  geo_data=country_geo,\n",
    "#  name='choropleth',\n",
    "#  data=country_data,\n",
    "# #  columns=['Country', 'GDP ($ per capita)'],\n",
    "#  columns=['Country', parameter],\n",
    "#  key_on='feature.properties.name',\n",
    "#  fill_color='YlGn',\n",
    "#  fill_opacity=0.7,\n",
    "#  line_opacity=0.2,\n",
    "#  legend_name=parameter\n",
    "# )\n",
    "# folium.LayerControl().add_to(m)\n",
    "# m\n"
   ]
  }
 ],
 "metadata": {
  "kernelspec": {
   "display_name": "Python 3",
   "language": "python",
   "name": "python3"
  },
  "language_info": {
   "codemirror_mode": {
    "name": "ipython",
    "version": 3
   },
   "file_extension": ".py",
   "mimetype": "text/x-python",
   "name": "python",
   "nbconvert_exporter": "python",
   "pygments_lexer": "ipython3",
   "version": "3.5.5"
  }
 },
 "nbformat": 4,
 "nbformat_minor": 2
}
